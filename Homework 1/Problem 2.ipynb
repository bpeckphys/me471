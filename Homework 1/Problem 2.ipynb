{
 "cells": [
  {
   "cell_type": "markdown",
   "metadata": {},
   "source": [
    "# Homework 1 Problem #2"
   ]
  },
  {
   "cell_type": "code",
   "execution_count": 1,
   "metadata": {
    "collapsed": true
   },
   "outputs": [],
   "source": [
    "import multiprocessing as mp\n",
    "import numpy as np\n",
    "import matplotlib.pyplot as mplt\n",
    "import pandas as pd"
   ]
  },
  {
   "cell_type": "markdown",
   "metadata": {},
   "source": [
    "# Minimum Function"
   ]
  },
  {
   "cell_type": "code",
   "execution_count": 36,
   "metadata": {},
   "outputs": [
    {
     "data": {
      "text/plain": [
       "0.0"
      ]
     },
     "execution_count": 36,
     "metadata": {},
     "output_type": "execute_result"
    }
   ],
   "source": [
    "N = 10**6\n",
    "x = np.random.rand(N)\n",
    "\n",
    "def inmin(y,q):\n",
    "    q.put(min(y))\n",
    "\n",
    "def parmin(x,nc):\n",
    "    # Divide the array into chunks\n",
    "    N = len(x)\n",
    "    ls = N//nc + 1\n",
    "    # ys is list of chunks\n",
    "    ys = [x[ls*i:ls*i+ls] for i in range(nc)]\n",
    "    # make a return queue\n",
    "    q = mp.Queue()\n",
    "    # We want to send chunks to seperate processes\n",
    "    jobs = [mp.Process(target=inmin,args = (y,q)) for y in ys]\n",
    "    for job in jobs:\n",
    "        job.start()\n",
    "    # Then wait for processes to send mins back\n",
    "    for job in jobs:\n",
    "        job.join()\n",
    "    # min mins\n",
    "    mins = []\n",
    "    while not q.empty():\n",
    "        mins.append(q.get())\n",
    "    tmin = min(mins)\n",
    "    # Return total min\n",
    "    return tmin\n",
    "\n",
    "parmin(x,4) - min(x)"
   ]
  },
  {
   "cell_type": "markdown",
   "metadata": {},
   "source": [
    "# Maximum Function"
   ]
  },
  {
   "cell_type": "code",
   "execution_count": 35,
   "metadata": {},
   "outputs": [
    {
     "data": {
      "text/plain": [
       "0.0"
      ]
     },
     "execution_count": 35,
     "metadata": {},
     "output_type": "execute_result"
    }
   ],
   "source": [
    "N = 10**6\n",
    "x = np.random.rand(N)\n",
    "\n",
    "def inmax(y,q):\n",
    "    q.put(max(y))\n",
    "\n",
    "def parmax(x,nc):\n",
    "    # Divide the array into chunks\n",
    "    N = len(x)\n",
    "    ls = N//nc + 1\n",
    "    # ys is list of chunks\n",
    "    ys = [x[ls*i:ls*i+ls] for i in range(nc)]\n",
    "    # make a return queue\n",
    "    q = mp.Queue()\n",
    "    # We want to send chunks to seperate processes\n",
    "    jobs = [mp.Process(target=inmax,args = (y,q)) for y in ys]\n",
    "    for job in jobs:\n",
    "        job.start()\n",
    "    # Then wait for processes to send maxs back\n",
    "    for job in jobs:\n",
    "        job.join()\n",
    "    # max maxs\n",
    "    maxs = []\n",
    "    while not q.empty():\n",
    "        maxs.append(q.get())\n",
    "    tmax = max(maxs)\n",
    "    # Return total max\n",
    "    return tmax\n",
    "\n",
    "parmax(x,4) - max(x)"
   ]
  },
  {
   "cell_type": "markdown",
   "metadata": {},
   "source": [
    "# Mean Function"
   ]
  },
  {
   "cell_type": "code",
   "execution_count": 3,
   "metadata": {},
   "outputs": [
    {
     "data": {
      "text/plain": [
       "-9.8809849191638932e-15"
      ]
     },
     "execution_count": 3,
     "metadata": {},
     "output_type": "execute_result"
    }
   ],
   "source": [
    "N = 10**8\n",
    "x = np.random.rand(N)\n",
    "\n",
    "def insum(y,q):\n",
    "    q.put(sum(y))\n",
    "\n",
    "def parmean(x,nc):\n",
    "    # Divide the array into chunks\n",
    "    N = len(x)\n",
    "    ls = N//nc + 1\n",
    "    # ys is list of chunks\n",
    "    ys = [x[ls*i:ls*i+ls] for i in range(nc)]\n",
    "    # make a return queue\n",
    "    q = mp.Queue()\n",
    "    # We want to send chunks to seperate processes\n",
    "    jobs = [mp.Process(target=insum,args = (y,q)) for y in ys]\n",
    "    for job in jobs:\n",
    "        job.start()\n",
    "    # Then wait for processes to send sums back\n",
    "    for job in jobs:\n",
    "        job.join()\n",
    "    # Sum sums\n",
    "    sums = 0\n",
    "    while not q.empty():\n",
    "        sums += q.get()\n",
    "    # Divide sum by length(N)\n",
    "    xbar = sums/N\n",
    "    # Return mean\n",
    "    return xbar\n",
    "\n",
    "parmean(x,10) - np.mean(x)"
   ]
  },
  {
   "cell_type": "markdown",
   "metadata": {
    "collapsed": true
   },
   "source": [
    "# Standard Deviation Function"
   ]
  },
  {
   "cell_type": "code",
   "execution_count": 58,
   "metadata": {},
   "outputs": [
    {
     "name": "stdout",
     "output_type": "stream",
     "text": [
      "0\n",
      "0.0\n",
      "0.264381202703\n"
     ]
    }
   ],
   "source": [
    "N = 10**2\n",
    "x = np.random.rand(N)\n",
    "\n",
    "def instd(y,q,xbar):\n",
    "    q.put(sum((xval - xbar)**2) for xval in y)\n",
    "\n",
    "def parstd(x,nc):\n",
    "    # Get the mean of x\n",
    "    xbar = parmean(x,nc)\n",
    "    \n",
    "    # Divide the array into chunks\n",
    "    N = len(x)\n",
    "    ls = N//nc + 1\n",
    "    # ys is list of chunks\n",
    "    ys = [x[ls*i:ls*i+ls] for i in range(nc)]\n",
    "    # make a return queue\n",
    "    q = mp.Queue()\n",
    "    # We want to send chunks to seperate processes\n",
    "    jobs = [mp.Process(target=instd,args = (y,q,xbar)) for y in ys]\n",
    "    for job in jobs:\n",
    "        job.start()\n",
    "    # Then wait for processes to send sums squared back\n",
    "    for job in jobs:\n",
    "        job.join()\n",
    "    # Sum sums\n",
    "    sums = 0\n",
    "    while not q.empty():\n",
    "        sums += q.get()\n",
    "    print(sums)\n",
    "    # Divide sum by length(N)-1\n",
    "    std = np.sqrt(sums/(N-1))\n",
    "    # Return standard deviation\n",
    "    return std\n",
    "\n",
    "print(parstd(x,10))\n",
    "print(np.std(x))"
   ]
  },
  {
   "cell_type": "code",
   "execution_count": 38,
   "metadata": {},
   "outputs": [
    {
     "data": {
      "text/plain": [
       "1.4142135623730951"
      ]
     },
     "execution_count": 38,
     "metadata": {},
     "output_type": "execute_result"
    }
   ],
   "source": [
    "np.sqrt(2)"
   ]
  },
  {
   "cell_type": "code",
   "execution_count": null,
   "metadata": {
    "collapsed": true
   },
   "outputs": [],
   "source": []
  }
 ],
 "metadata": {
  "kernelspec": {
   "display_name": "Python 3",
   "language": "python",
   "name": "python3"
  },
  "language_info": {
   "codemirror_mode": {
    "name": "ipython",
    "version": 3
   },
   "file_extension": ".py",
   "mimetype": "text/x-python",
   "name": "python",
   "nbconvert_exporter": "python",
   "pygments_lexer": "ipython3",
   "version": "3.6.3"
  }
 },
 "nbformat": 4,
 "nbformat_minor": 2
}
