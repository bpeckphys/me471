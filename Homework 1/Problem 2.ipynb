{
 "cells": [
  {
   "cell_type": "markdown",
   "metadata": {},
   "source": [
    "# Homework 1 Problem #2"
   ]
  },
  {
   "cell_type": "code",
   "execution_count": 1,
   "metadata": {
    "collapsed": true
   },
   "outputs": [],
   "source": [
    "import multiprocessing as mp\n",
    "import numpy as np\n",
    "import matplotlib.pyplot as mplt\n",
    "import pandas as pd"
   ]
  },
  {
   "cell_type": "code",
   "execution_count": 85,
   "metadata": {},
   "outputs": [
    {
     "data": {
      "text/plain": [
       "-4.7739590058881731e-15"
      ]
     },
     "execution_count": 85,
     "metadata": {},
     "output_type": "execute_result"
    }
   ],
   "source": [
    "N = 10**8\n",
    "x = np.random.rand(N)\n",
    "\n",
    "def insum(y,q):\n",
    "    q.put(sum(y))\n",
    "\n",
    "def parmean(x,nc):\n",
    "    N = len(x)\n",
    "    ls = N//nc + 1\n",
    "    ys = [x[ls*i:ls*i+ls] for i in range(nc)]\n",
    "    # make a return queue\n",
    "    q = mp.Queue()\n",
    "    # ys is list of chunks\n",
    "    # We want to send chunks to seperate processes\n",
    "    jobs = [mp.Process(target=insum,args = (y,q)) for y in ys]\n",
    "    for job in jobs:\n",
    "        job.start()\n",
    "    # Then wait for processes to send sums back\n",
    "    for job in jobs:\n",
    "        job.join()\n",
    "    # Sum sums\n",
    "    sums = 0\n",
    "    while not q.empty():\n",
    "        sums += q.get()\n",
    "    # Divide sum by length(N)\n",
    "    xbar = sums/N\n",
    "    # Return mean\n",
    "    return xbar\n",
    "\n",
    "parmean(x,10) - np.mean(x)"
   ]
  },
  {
   "cell_type": "code",
   "execution_count": null,
   "metadata": {
    "collapsed": true
   },
   "outputs": [],
   "source": []
  }
 ],
 "metadata": {
  "kernelspec": {
   "display_name": "Python 3",
   "language": "python",
   "name": "python3"
  },
  "language_info": {
   "codemirror_mode": {
    "name": "ipython",
    "version": 3
   },
   "file_extension": ".py",
   "mimetype": "text/x-python",
   "name": "python",
   "nbconvert_exporter": "python",
   "pygments_lexer": "ipython3",
   "version": "3.6.3"
  }
 },
 "nbformat": 4,
 "nbformat_minor": 2
}
