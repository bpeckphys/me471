{
 "cells": [
  {
   "cell_type": "markdown",
   "metadata": {},
   "source": [
    "# Homework 1 Problem #2"
   ]
  },
  {
   "cell_type": "code",
   "execution_count": null,
   "metadata": {
    "collapsed": true
   },
   "outputs": [],
   "source": [
    "import multiprocessing as mp\n",
    "import numpy as np\n",
    "%matplotlib inline\n",
    "import matplotlib.pyplot as mplt\n",
    "import pandas as pd\n",
    "from IPython.display import display, HTML"
   ]
  },
  {
   "cell_type": "markdown",
   "metadata": {},
   "source": [
    "# Minimum Function"
   ]
  },
  {
   "cell_type": "code",
   "execution_count": null,
   "metadata": {
    "collapsed": true
   },
   "outputs": [],
   "source": [
    "N = 10**7\n",
    "x = np.random.rand(N)\n",
    "\n",
    "def inmin(y,q):\n",
    "    q.put(min(y))\n",
    "\n",
    "def parmin(x,nc):\n",
    "    # Divide the array into chunks\n",
    "    N = len(x)\n",
    "    ls = N//nc + 1\n",
    "    # ys is list of chunks\n",
    "    ys = [x[ls*i:ls*i+ls] for i in range(nc)]\n",
    "    # make a return queue\n",
    "    q = mp.Queue()\n",
    "    # We want to send chunks to seperate processes\n",
    "    jobs = [mp.Process(target=inmin,args = (y,q)) for y in ys]\n",
    "    for job in jobs:\n",
    "        job.start()\n",
    "    # Then wait for processes to send mins back\n",
    "    for job in jobs:\n",
    "        job.join()\n",
    "    # min mins\n",
    "    mins = []\n",
    "    while not q.empty():\n",
    "        mins.append(q.get())\n",
    "    tmin = min(mins)\n",
    "    # Return total min\n",
    "    return tmin\n",
    "\n",
    "parmin(x,4) - min(x)"
   ]
  },
  {
   "cell_type": "markdown",
   "metadata": {},
   "source": [
    "# Maximum Function"
   ]
  },
  {
   "cell_type": "code",
   "execution_count": null,
   "metadata": {
    "collapsed": true
   },
   "outputs": [],
   "source": [
    "N = 10**6\n",
    "x = np.random.rand(N)\n",
    "\n",
    "def inmax(y,q):\n",
    "    q.put(max(y))\n",
    "\n",
    "def parmax(x,nc):\n",
    "    # Divide the array into chunks\n",
    "    N = len(x)\n",
    "    ls = N//nc + 1\n",
    "    # ys is list of chunks\n",
    "    ys = [x[ls*i:ls*i+ls] for i in range(nc)]\n",
    "    # make a return queue\n",
    "    q = mp.Queue()\n",
    "    # We want to send chunks to seperate processes\n",
    "    jobs = [mp.Process(target=inmax,args = (y,q)) for y in ys]\n",
    "    for job in jobs:\n",
    "        job.start()\n",
    "    # Then wait for processes to send maxs back\n",
    "    for job in jobs:\n",
    "        job.join()\n",
    "    # max maxs\n",
    "    maxs = []\n",
    "    while not q.empty():\n",
    "        maxs.append(q.get())\n",
    "    tmax = max(maxs)\n",
    "    # Return total max\n",
    "    return tmax\n",
    "\n",
    "parmax(x,4) - max(x)"
   ]
  },
  {
   "cell_type": "markdown",
   "metadata": {},
   "source": [
    "# Mean Function"
   ]
  },
  {
   "cell_type": "code",
   "execution_count": null,
   "metadata": {
    "collapsed": true
   },
   "outputs": [],
   "source": [
    "N = 10**6\n",
    "x = np.random.rand(N)\n",
    "\n",
    "def insum(y,q):\n",
    "    q.put(sum(y))\n",
    "\n",
    "def parmean(x,nc):\n",
    "    # Divide the array into chunks\n",
    "    N = len(x)\n",
    "    ls = N//nc + 1\n",
    "    # ys is list of chunks\n",
    "    ys = [x[ls*i:ls*i+ls] for i in range(nc)]\n",
    "    # make a return queue\n",
    "    q = mp.Queue()\n",
    "    # We want to send chunks to seperate processes\n",
    "    jobs = [mp.Process(target=insum,args = (y,q)) for y in ys]\n",
    "    for job in jobs:\n",
    "        job.start()\n",
    "    # Then wait for processes to send sums back\n",
    "    for job in jobs:\n",
    "        job.join()\n",
    "    # Sum sums\n",
    "    sums = 0\n",
    "    while not q.empty():\n",
    "        sums += q.get()\n",
    "    # Divide sum by length(N)\n",
    "    xbar = sums/N\n",
    "    # Return mean\n",
    "    return xbar\n",
    "\n",
    "parmean(x,10) - np.mean(x)"
   ]
  },
  {
   "cell_type": "markdown",
   "metadata": {
    "collapsed": true
   },
   "source": [
    "# Standard Deviation Function"
   ]
  },
  {
   "cell_type": "code",
   "execution_count": null,
   "metadata": {
    "collapsed": true
   },
   "outputs": [],
   "source": [
    "N = 10**4\n",
    "x = np.random.rand(N)\n",
    "\n",
    "def instd(y,q,xbar):\n",
    "    q.put(sum([(xval - xbar)**2 for xval in y]))\n",
    "\n",
    "def parstd(x,nc):\n",
    "    # Get the mean of x\n",
    "    xbar = parmean(x,nc)\n",
    "    \n",
    "    # Divide the array into chunks\n",
    "    N = len(x)\n",
    "    ls = N//nc + 1\n",
    "    # ys is list of chunks\n",
    "    ys = [x[ls*i:ls*i+ls] for i in range(nc)]\n",
    "    # make a return queue\n",
    "    q = mp.Queue()\n",
    "    # We want to send chunks to seperate processes\n",
    "    jobs = [mp.Process(target=instd,args = (y,q,xbar)) for y in ys]\n",
    "    for job in jobs:\n",
    "        job.start()\n",
    "    # Then wait for processes to send sums squared back\n",
    "    for job in jobs:\n",
    "        job.join()\n",
    "    # Sum sums\n",
    "    sums = 0\n",
    "    while not q.empty():\n",
    "        sums += q.get()\n",
    "    # Divide sum by length(N)-1\n",
    "    std = np.sqrt(sums/(N))\n",
    "    # Return standard deviation\n",
    "    return std\n",
    "\n",
    "print(parstd(x,10) - np.std(x))"
   ]
  },
  {
   "cell_type": "markdown",
   "metadata": {},
   "source": [
    "# Timings Section"
   ]
  },
  {
   "cell_type": "code",
   "execution_count": null,
   "metadata": {
    "collapsed": true
   },
   "outputs": [],
   "source": [
    "N = 10**6\n",
    "x = np.random.rand(N)\n",
    "nc = 4\n",
    "min_timings = []\n",
    "max_timings = []\n",
    "std_timings = []"
   ]
  },
  {
   "cell_type": "code",
   "execution_count": null,
   "metadata": {
    "collapsed": true
   },
   "outputs": [],
   "source": [
    "for i in range(nc):\n",
    "    times = %%timeit -o -n 1 pass\n",
    "    parmin(x,nc)\n",
    "    min_timings.append(times.average)"
   ]
  },
  {
   "cell_type": "code",
   "execution_count": null,
   "metadata": {
    "collapsed": true
   },
   "outputs": [],
   "source": [
    "for i in range(nc):\n",
    "    times = %%timeit -o -n 1 pass\n",
    "    parmax(x,nc)\n",
    "    max_timings.append(times.average)"
   ]
  },
  {
   "cell_type": "code",
   "execution_count": null,
   "metadata": {
    "collapsed": true
   },
   "outputs": [],
   "source": [
    "for i in range(nc):\n",
    "    times = %%timeit -o -n 1 pass\n",
    "    parstd(x,nc)\n",
    "    std_timings.append(times.average)"
   ]
  },
  {
   "cell_type": "code",
   "execution_count": null,
   "metadata": {
    "collapsed": true
   },
   "outputs": [],
   "source": [
    "ncores = [i+1 for i in range(nc)]\n",
    "t_ep = [(i+1)**0 for i in range(nc)]"
   ]
  },
  {
   "cell_type": "code",
   "execution_count": null,
   "metadata": {
    "collapsed": true
   },
   "outputs": [],
   "source": [
    "sp_min  = [min_timings[0]/min_timings[i] for i in range(len(min_timings))]\n",
    "sp_max  = [max_timings[0]/max_timings[i] for i in range(len(max_timings))]\n",
    "sp_std  = [std_timings[0]/std_timings[i] for i in range(len(std_timings))]"
   ]
  },
  {
   "cell_type": "code",
   "execution_count": null,
   "metadata": {
    "collapsed": true
   },
   "outputs": [],
   "source": [
    "ep_min = [sp_min[i]/nc for i in range(nc)]\n",
    "ep_max = [sp_max[i]/nc for i in range(nc)]\n",
    "ep_std = [sp_std[i]/nc for i in range(nc)]"
   ]
  },
  {
   "cell_type": "code",
   "execution_count": null,
   "metadata": {
    "collapsed": true
   },
   "outputs": [],
   "source": [
    "d_min = [[i+1 for i in range(nc)],min_timings,sp_min,ncores,ep_min,t_ep]\n",
    "d_max = [[i+1 for i in range(nc)],max_timings,sp_max,ncores,ep_max,t_ep]\n",
    "d_std = [[i+1 for i in range(nc)],std_timings,sp_std,ncores,ep_std,t_ep]"
   ]
  },
  {
   "cell_type": "code",
   "execution_count": null,
   "metadata": {
    "collapsed": true
   },
   "outputs": [],
   "source": [
    "columns = [\"Number of Processors\",\"Time\",\"Speed-Up\",\"Theoretical Speed-Up\",\"Efficiency\",\"Theoretical Efficiency\"]\n",
    "timings_min = pd.DataFrame(data=d_min,index=columns).T\n",
    "timings_max = pd.DataFrame(data=d_max,index=columns).T\n",
    "timings_std = pd.DataFrame(data=d_std,index=columns).T"
   ]
  },
  {
   "cell_type": "code",
   "execution_count": null,
   "metadata": {
    "collapsed": true
   },
   "outputs": [],
   "source": [
    "display(HTML(timings_min.to_html(index=False)))"
   ]
  },
  {
   "cell_type": "code",
   "execution_count": null,
   "metadata": {
    "collapsed": true
   },
   "outputs": [],
   "source": [
    "min_plot = timings_min.plot(x = \"Number of Processors\",y = [\"Speed-Up\",\"Theoretical Speed-Up\"],style=\"*-\",loglog=True)\n",
    "min_plot.set_title(\"Minimum Function\",fontsize = 18)\n",
    "min_plot.set_xlabel(\"Processors\")\n",
    "min_plot.set_ylabel(\"Speed-Up\")"
   ]
  },
  {
   "cell_type": "code",
   "execution_count": null,
   "metadata": {
    "collapsed": true
   },
   "outputs": [],
   "source": [
    "min_plot = timings_min.plot(x = \"Number of Processors\",y = [\"Efficiency\",\"Theoretical Efficiency\"],style=\"*-\",logx=True)\n",
    "min_plot.set_title(\"Minimum Function\",fontsize = 18)\n",
    "min_plot.set_xlabel(\"Processors\")\n",
    "min_plot.set_ylabel(\"Efficiency\")"
   ]
  },
  {
   "cell_type": "code",
   "execution_count": null,
   "metadata": {
    "collapsed": true
   },
   "outputs": [],
   "source": [
    "display(HTML(timings_max.to_html(index=False)))"
   ]
  },
  {
   "cell_type": "code",
   "execution_count": null,
   "metadata": {
    "collapsed": true
   },
   "outputs": [],
   "source": [
    "max_plot = timings_max.plot(x = \"Number of Processors\",y = [\"Speed-Up\",\"Theoretical Speed-Up\"],style=\"*-\",loglog=True)\n",
    "max_plot.set_title(\"Maximum Function\",fontsize = 18)\n",
    "max_plot.set_xlabel(\"Processors\")\n",
    "max_plot.set_ylabel(\"Speed-Up\")"
   ]
  },
  {
   "cell_type": "code",
   "execution_count": null,
   "metadata": {
    "collapsed": true
   },
   "outputs": [],
   "source": [
    "max_plot = timings_max.plot(x = \"Number of Processors\",y = [\"Efficiency\",\"Theoretical Efficiency\"],style=\"*-\",logx=True)\n",
    "max_plot.set_title(\"Maximum Function\",fontsize = 18)\n",
    "max_plot.set_xlabel(\"Processors\")\n",
    "max_plot.set_ylabel(\"Efficiency\")"
   ]
  },
  {
   "cell_type": "code",
   "execution_count": null,
   "metadata": {
    "collapsed": true
   },
   "outputs": [],
   "source": [
    "display(HTML(timings_std.to_html(index=False)))"
   ]
  },
  {
   "cell_type": "code",
   "execution_count": null,
   "metadata": {
    "collapsed": true
   },
   "outputs": [],
   "source": [
    "std_plot = timings_std.plot(x = \"Number of Processors\",y = [\"Speed-Up\",\"Theoretical Speed-Up\"],style=\"*-\",loglog=True)\n",
    "std_plot.set_title(\"Standard Deviation Function\",fontsize = 18)\n",
    "std_plot.set_xlabel(\"Processors\")\n",
    "std_plot.set_ylabel(\"Speed-Up\")"
   ]
  },
  {
   "cell_type": "code",
   "execution_count": null,
   "metadata": {
    "collapsed": true
   },
   "outputs": [],
   "source": [
    "std_plot = timings_std.plot(x = \"Number of Processors\",y = [\"Efficiency\",\"Theoretical Efficiency\"],style=\"*-\",logx=True)\n",
    "std_plot.set_title(\"Standard Deviation\",fontsize = 18)\n",
    "std_plot.set_xlabel(\"Processors\")\n",
    "std_plot.set_ylabel(\"Efficiency\")"
   ]
  },
  {
   "cell_type": "code",
   "execution_count": null,
   "metadata": {
    "collapsed": true
   },
   "outputs": [],
   "source": []
  }
 ],
 "metadata": {
  "kernelspec": {
   "display_name": "Python 3",
   "language": "python",
   "name": "python3"
  },
  "language_info": {
   "codemirror_mode": {
    "name": "ipython",
    "version": 3
   },
   "file_extension": ".py",
   "mimetype": "text/x-python",
   "name": "python",
   "nbconvert_exporter": "python",
   "pygments_lexer": "ipython3",
   "version": "3.6.3"
  }
 },
 "nbformat": 4,
 "nbformat_minor": 2
}
