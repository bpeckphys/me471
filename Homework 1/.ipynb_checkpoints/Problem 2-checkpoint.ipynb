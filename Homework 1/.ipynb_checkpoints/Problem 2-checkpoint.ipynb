{
 "cells": [
  {
   "cell_type": "markdown",
   "metadata": {},
   "source": [
    "# Homework 1 Problem #2"
   ]
  },
  {
   "cell_type": "code",
   "execution_count": 1,
   "metadata": {
    "collapsed": true
   },
   "outputs": [],
   "source": [
    "import multiprocessing as mp\n",
    "import numpy as np\n",
    "%matplotlib inline\n",
    "import matplotlib.pyplot as mplt\n",
    "import pandas as pd"
   ]
  },
  {
   "cell_type": "markdown",
   "metadata": {},
   "source": [
    "# Minimum Function"
   ]
  },
  {
   "cell_type": "code",
   "execution_count": 2,
   "metadata": {},
   "outputs": [
    {
     "data": {
      "text/plain": [
       "0.0"
      ]
     },
     "execution_count": 2,
     "metadata": {},
     "output_type": "execute_result"
    }
   ],
   "source": [
    "N = 10**6\n",
    "x = np.random.rand(N)\n",
    "\n",
    "def inmin(y,q):\n",
    "    q.put(min(y))\n",
    "\n",
    "def parmin(x,nc):\n",
    "    # Divide the array into chunks\n",
    "    N = len(x)\n",
    "    ls = N//nc + 1\n",
    "    # ys is list of chunks\n",
    "    ys = [x[ls*i:ls*i+ls] for i in range(nc)]\n",
    "    # make a return queue\n",
    "    q = mp.Queue()\n",
    "    # We want to send chunks to seperate processes\n",
    "    jobs = [mp.Process(target=inmin,args = (y,q)) for y in ys]\n",
    "    for job in jobs:\n",
    "        job.start()\n",
    "    # Then wait for processes to send mins back\n",
    "    for job in jobs:\n",
    "        job.join()\n",
    "    # min mins\n",
    "    mins = []\n",
    "    while not q.empty():\n",
    "        mins.append(q.get())\n",
    "    tmin = min(mins)\n",
    "    # Return total min\n",
    "    return tmin\n",
    "\n",
    "parmin(x,4) - min(x)"
   ]
  },
  {
   "cell_type": "markdown",
   "metadata": {},
   "source": [
    "# Maximum Function"
   ]
  },
  {
   "cell_type": "code",
   "execution_count": 3,
   "metadata": {},
   "outputs": [
    {
     "data": {
      "text/plain": [
       "0.0"
      ]
     },
     "execution_count": 3,
     "metadata": {},
     "output_type": "execute_result"
    }
   ],
   "source": [
    "N = 10**6\n",
    "x = np.random.rand(N)\n",
    "\n",
    "def inmax(y,q):\n",
    "    q.put(max(y))\n",
    "\n",
    "def parmax(x,nc):\n",
    "    # Divide the array into chunks\n",
    "    N = len(x)\n",
    "    ls = N//nc + 1\n",
    "    # ys is list of chunks\n",
    "    ys = [x[ls*i:ls*i+ls] for i in range(nc)]\n",
    "    # make a return queue\n",
    "    q = mp.Queue()\n",
    "    # We want to send chunks to seperate processes\n",
    "    jobs = [mp.Process(target=inmax,args = (y,q)) for y in ys]\n",
    "    for job in jobs:\n",
    "        job.start()\n",
    "    # Then wait for processes to send maxs back\n",
    "    for job in jobs:\n",
    "        job.join()\n",
    "    # max maxs\n",
    "    maxs = []\n",
    "    while not q.empty():\n",
    "        maxs.append(q.get())\n",
    "    tmax = max(maxs)\n",
    "    # Return total max\n",
    "    return tmax\n",
    "\n",
    "parmax(x,4) - max(x)"
   ]
  },
  {
   "cell_type": "markdown",
   "metadata": {},
   "source": [
    "# Mean Function"
   ]
  },
  {
   "cell_type": "code",
   "execution_count": 4,
   "metadata": {},
   "outputs": [
    {
     "data": {
      "text/plain": [
       "-1.4432899320127035e-15"
      ]
     },
     "execution_count": 4,
     "metadata": {},
     "output_type": "execute_result"
    }
   ],
   "source": [
    "N = 10**6\n",
    "x = np.random.rand(N)\n",
    "\n",
    "def insum(y,q):\n",
    "    q.put(sum(y))\n",
    "\n",
    "def parmean(x,nc):\n",
    "    # Divide the array into chunks\n",
    "    N = len(x)\n",
    "    ls = N//nc + 1\n",
    "    # ys is list of chunks\n",
    "    ys = [x[ls*i:ls*i+ls] for i in range(nc)]\n",
    "    # make a return queue\n",
    "    q = mp.Queue()\n",
    "    # We want to send chunks to seperate processes\n",
    "    jobs = [mp.Process(target=insum,args = (y,q)) for y in ys]\n",
    "    for job in jobs:\n",
    "        job.start()\n",
    "    # Then wait for processes to send sums back\n",
    "    for job in jobs:\n",
    "        job.join()\n",
    "    # Sum sums\n",
    "    sums = 0\n",
    "    while not q.empty():\n",
    "        sums += q.get()\n",
    "    # Divide sum by length(N)\n",
    "    xbar = sums/N\n",
    "    # Return mean\n",
    "    return xbar\n",
    "\n",
    "parmean(x,10) - np.mean(x)"
   ]
  },
  {
   "cell_type": "markdown",
   "metadata": {
    "collapsed": true
   },
   "source": [
    "# Standard Deviation Function"
   ]
  },
  {
   "cell_type": "code",
   "execution_count": 5,
   "metadata": {},
   "outputs": [
    {
     "name": "stdout",
     "output_type": "stream",
     "text": [
      "5.55111512313e-17\n"
     ]
    }
   ],
   "source": [
    "N = 10**4\n",
    "x = np.random.rand(N)\n",
    "\n",
    "def instd(y,q,xbar):\n",
    "    q.put(sum([(xval - xbar)**2 for xval in y]))\n",
    "\n",
    "def parstd(x,nc):\n",
    "    # Get the mean of x\n",
    "    xbar = parmean(x,nc)\n",
    "    \n",
    "    # Divide the array into chunks\n",
    "    N = len(x)\n",
    "    ls = N//nc + 1\n",
    "    # ys is list of chunks\n",
    "    ys = [x[ls*i:ls*i+ls] for i in range(nc)]\n",
    "    # make a return queue\n",
    "    q = mp.Queue()\n",
    "    # We want to send chunks to seperate processes\n",
    "    jobs = [mp.Process(target=instd,args = (y,q,xbar)) for y in ys]\n",
    "    for job in jobs:\n",
    "        job.start()\n",
    "    # Then wait for processes to send sums squared back\n",
    "    for job in jobs:\n",
    "        job.join()\n",
    "    # Sum sums\n",
    "    sums = 0\n",
    "    while not q.empty():\n",
    "        sums += q.get()\n",
    "    # Divide sum by length(N)-1\n",
    "    std = np.sqrt(sums/(N))\n",
    "    # Return standard deviation\n",
    "    return std\n",
    "\n",
    "print(parstd(x,10) - np.std(x))"
   ]
  },
  {
   "cell_type": "markdown",
   "metadata": {},
   "source": [
    "# Timings Section"
   ]
  },
  {
   "cell_type": "code",
   "execution_count": 6,
   "metadata": {},
   "outputs": [],
   "source": [
    "N = 10**6\n",
    "x = np.random.rand(N)\n",
    "nc = 4\n",
    "min_timings = []\n",
    "max_timings = []\n",
    "std_timings = []"
   ]
  },
  {
   "cell_type": "code",
   "execution_count": 7,
   "metadata": {},
   "outputs": [
    {
     "name": "stdout",
     "output_type": "stream",
     "text": [
      "191 ns ± 151 ns per loop (mean ± std. dev. of 7 runs, 1 loop each)\n",
      "305 ns ± 219 ns per loop (mean ± std. dev. of 7 runs, 1 loop each)\n",
      "215 ns ± 203 ns per loop (mean ± std. dev. of 7 runs, 1 loop each)\n",
      "223 ns ± 206 ns per loop (mean ± std. dev. of 7 runs, 1 loop each)\n"
     ]
    }
   ],
   "source": [
    "for i in range(nc):\n",
    "    times = %%timeit -o -n 1 pass\n",
    "    parmin(x,nc)\n",
    "    min_timings.append(times.average)"
   ]
  },
  {
   "cell_type": "code",
   "execution_count": 8,
   "metadata": {},
   "outputs": [
    {
     "name": "stdout",
     "output_type": "stream",
     "text": [
      "252 ns ± 155 ns per loop (mean ± std. dev. of 7 runs, 1 loop each)\n",
      "206 ns ± 169 ns per loop (mean ± std. dev. of 7 runs, 1 loop each)\n",
      "The slowest run took 21.54 times longer than the fastest. This could mean that an intermediate result is being cached.\n",
      "490 ns ± 856 ns per loop (mean ± std. dev. of 7 runs, 1 loop each)\n",
      "206 ns ± 175 ns per loop (mean ± std. dev. of 7 runs, 1 loop each)\n"
     ]
    }
   ],
   "source": [
    "for i in range(nc):\n",
    "    times = %%timeit -o -n 1 pass\n",
    "    parmax(x,nc)\n",
    "    max_timings.append(times.average)"
   ]
  },
  {
   "cell_type": "code",
   "execution_count": 9,
   "metadata": {},
   "outputs": [
    {
     "name": "stdout",
     "output_type": "stream",
     "text": [
      "211 ns ± 194 ns per loop (mean ± std. dev. of 7 runs, 1 loop each)\n",
      "194 ns ± 186 ns per loop (mean ± std. dev. of 7 runs, 1 loop each)\n",
      "175 ns ± 122 ns per loop (mean ± std. dev. of 7 runs, 1 loop each)\n",
      "190 ns ± 157 ns per loop (mean ± std. dev. of 7 runs, 1 loop each)\n"
     ]
    }
   ],
   "source": [
    "for i in range(nc):\n",
    "    times = %%timeit -o -n 1 pass\n",
    "    parstd(x,nc)\n",
    "    std_timings.append(times.average)"
   ]
  },
  {
   "cell_type": "code",
   "execution_count": 10,
   "metadata": {},
   "outputs": [],
   "source": [
    "ncores = [i+1 for i in range(nc)]\n",
    "t_ep = [(i+1)**0 for i in range(nc)]"
   ]
  },
  {
   "cell_type": "code",
   "execution_count": 11,
   "metadata": {},
   "outputs": [],
   "source": [
    "sp_min  = [min_timings[0]/min_timings[i] for i in range(len(min_timings))]\n",
    "sp_max  = [max_timings[0]/max_timings[i] for i in range(len(max_timings))]\n",
    "sp_std  = [std_timings[0]/std_timings[i] for i in range(len(std_timings))]"
   ]
  },
  {
   "cell_type": "code",
   "execution_count": 12,
   "metadata": {},
   "outputs": [],
   "source": [
    "ep_min = [sp_min[i]/nc for i in range(nc)]\n",
    "ep_max = [sp_max[i]/nc for i in range(nc)]\n",
    "ep_std = [sp_std[i]/nc for i in range(nc)]"
   ]
  },
  {
   "cell_type": "code",
   "execution_count": 13,
   "metadata": {
    "collapsed": true
   },
   "outputs": [],
   "source": [
    "d_min = [[i+1 for i in range(nc)],min_timings,sp_min,ncores,ep_min,t_ep]\n",
    "d_max = [[i+1 for i in range(nc)],max_timings,sp_max,ncores,ep_max,t_ep]\n",
    "d_std = [[i+1 for i in range(nc)],std_timings,sp_std,ncores,ep_std,t_ep]"
   ]
  },
  {
   "cell_type": "code",
   "execution_count": 14,
   "metadata": {},
   "outputs": [],
   "source": [
    "columns = [\"Number of Processors\",\"Time\",\"Speed-Up\",\"Theoretical Speed-Up\",\"Efficiency\",\"Theoretical Efficiency\"]\n",
    "timings_min = pd.DataFrame(data=d_min,index=columns).T\n",
    "timings_max = pd.DataFrame(data=d_max,index=columns).T\n",
    "timings_std = pd.DataFrame(data=d_std,index=columns).T"
   ]
  },
  {
   "cell_type": "code",
   "execution_count": 15,
   "metadata": {},
   "outputs": [
    {
     "data": {
      "text/html": [
       "<div>\n",
       "<style>\n",
       "    .dataframe thead tr:only-child th {\n",
       "        text-align: right;\n",
       "    }\n",
       "\n",
       "    .dataframe thead th {\n",
       "        text-align: left;\n",
       "    }\n",
       "\n",
       "    .dataframe tbody tr th {\n",
       "        vertical-align: top;\n",
       "    }\n",
       "</style>\n",
       "<table border=\"1\" class=\"dataframe\">\n",
       "  <thead>\n",
       "    <tr style=\"text-align: right;\">\n",
       "      <th></th>\n",
       "      <th>Number of Processors</th>\n",
       "      <th>Time</th>\n",
       "      <th>Speed-Up</th>\n",
       "      <th>Theoretical Speed-Up</th>\n",
       "      <th>Efficiency</th>\n",
       "      <th>Theoretical Efficiency</th>\n",
       "    </tr>\n",
       "  </thead>\n",
       "  <tbody>\n",
       "    <tr>\n",
       "      <th>0</th>\n",
       "      <td>1.0</td>\n",
       "      <td>1.914286e-07</td>\n",
       "      <td>1.000000</td>\n",
       "      <td>1.0</td>\n",
       "      <td>0.250000</td>\n",
       "      <td>1.0</td>\n",
       "    </tr>\n",
       "    <tr>\n",
       "      <th>1</th>\n",
       "      <td>2.0</td>\n",
       "      <td>3.054286e-07</td>\n",
       "      <td>0.626754</td>\n",
       "      <td>2.0</td>\n",
       "      <td>0.156689</td>\n",
       "      <td>1.0</td>\n",
       "    </tr>\n",
       "    <tr>\n",
       "      <th>2</th>\n",
       "      <td>3.0</td>\n",
       "      <td>2.148569e-07</td>\n",
       "      <td>0.890959</td>\n",
       "      <td>3.0</td>\n",
       "      <td>0.222740</td>\n",
       "      <td>1.0</td>\n",
       "    </tr>\n",
       "    <tr>\n",
       "      <th>3</th>\n",
       "      <td>4.0</td>\n",
       "      <td>2.229998e-07</td>\n",
       "      <td>0.858425</td>\n",
       "      <td>4.0</td>\n",
       "      <td>0.214606</td>\n",
       "      <td>1.0</td>\n",
       "    </tr>\n",
       "  </tbody>\n",
       "</table>\n",
       "</div>"
      ],
      "text/plain": [
       "   Number of Processors          Time  Speed-Up  Theoretical Speed-Up  \\\n",
       "0                   1.0  1.914286e-07  1.000000                   1.0   \n",
       "1                   2.0  3.054286e-07  0.626754                   2.0   \n",
       "2                   3.0  2.148569e-07  0.890959                   3.0   \n",
       "3                   4.0  2.229998e-07  0.858425                   4.0   \n",
       "\n",
       "   Efficiency  Theoretical Efficiency  \n",
       "0    0.250000                     1.0  \n",
       "1    0.156689                     1.0  \n",
       "2    0.222740                     1.0  \n",
       "3    0.214606                     1.0  "
      ]
     },
     "execution_count": 15,
     "metadata": {},
     "output_type": "execute_result"
    }
   ],
   "source": [
    "timings_min"
   ]
  },
  {
   "cell_type": "code",
   "execution_count": 16,
   "metadata": {},
   "outputs": [
    {
     "data": {
      "text/plain": [
       "Text(0,0.5,'Speed-Up')"
      ]
     },
     "execution_count": 16,
     "metadata": {},
     "output_type": "execute_result"
    },
    {
     "data": {
      "image/png": "[encoded data removed]",
      "text/plain": [
       "<matplotlib.figure.Figure at 0x7f56d6795278>"
      ]
     },
     "metadata": {},
     "output_type": "display_data"
    }
   ],
   "source": [
    "min_plot = timings_min.plot(x = \"Number of Processors\",y = [\"Speed-Up\",\"Theoretical Speed-Up\"],style=\"*-\",loglog=True)\n",
    "min_plot.set_title(\"Minimum Function\",fontsize = 18)\n",
    "min_plot.set_xlabel(\"Processors\")\n",
    "min_plot.set_ylabel(\"Speed-Up\")"
   ]
  },
  {
   "cell_type": "code",
   "execution_count": 17,
   "metadata": {},
   "outputs": [
    {
     "data": {
      "text/plain": [
       "Text(0,0.5,'Efficiency')"
      ]
     },
     "execution_count": 17,
     "metadata": {},
     "output_type": "execute_result"
    },
    {
     "data": {
      "image/png": "[encoded data removed]",
      "text/plain": [
       "<matplotlib.figure.Figure at 0x7f56ce8514a8>"
      ]
     },
     "metadata": {},
     "output_type": "display_data"
    }
   ],
   "source": [
    "min_plot = timings_min.plot(x = \"Number of Processors\",y = [\"Efficiency\",\"Theoretical Efficiency\"],style=\"*-\",logx=True)\n",
    "min_plot.set_title(\"Minimum Function\",fontsize = 18)\n",
    "min_plot.set_xlabel(\"Processors\")\n",
    "min_plot.set_ylabel(\"Efficiency\")"
   ]
  },
  {
   "cell_type": "code",
   "execution_count": 18,
   "metadata": {},
   "outputs": [
    {
     "data": {
      "text/html": [
       "<div>\n",
       "<style>\n",
       "    .dataframe thead tr:only-child th {\n",
       "        text-align: right;\n",
       "    }\n",
       "\n",
       "    .dataframe thead th {\n",
       "        text-align: left;\n",
       "    }\n",
       "\n",
       "    .dataframe tbody tr th {\n",
       "        vertical-align: top;\n",
       "    }\n",
       "</style>\n",
       "<table border=\"1\" class=\"dataframe\">\n",
       "  <thead>\n",
       "    <tr style=\"text-align: right;\">\n",
       "      <th></th>\n",
       "      <th>Number of Processors</th>\n",
       "      <th>Time</th>\n",
       "      <th>Speed-Up</th>\n",
       "      <th>Theoretical Speed-Up</th>\n",
       "      <th>Efficiency</th>\n",
       "      <th>Theoretical Efficiency</th>\n",
       "    </tr>\n",
       "  </thead>\n",
       "  <tbody>\n",
       "    <tr>\n",
       "      <th>0</th>\n",
       "      <td>1.0</td>\n",
       "      <td>2.515717e-07</td>\n",
       "      <td>1.000000</td>\n",
       "      <td>1.0</td>\n",
       "      <td>0.250000</td>\n",
       "      <td>1.0</td>\n",
       "    </tr>\n",
       "    <tr>\n",
       "      <th>1</th>\n",
       "      <td>2.0</td>\n",
       "      <td>2.055715e-07</td>\n",
       "      <td>1.223767</td>\n",
       "      <td>2.0</td>\n",
       "      <td>0.305942</td>\n",
       "      <td>1.0</td>\n",
       "    </tr>\n",
       "    <tr>\n",
       "      <th>2</th>\n",
       "      <td>3.0</td>\n",
       "      <td>4.901428e-07</td>\n",
       "      <td>0.513262</td>\n",
       "      <td>3.0</td>\n",
       "      <td>0.128316</td>\n",
       "      <td>1.0</td>\n",
       "    </tr>\n",
       "    <tr>\n",
       "      <th>3</th>\n",
       "      <td>4.0</td>\n",
       "      <td>2.062859e-07</td>\n",
       "      <td>1.219529</td>\n",
       "      <td>4.0</td>\n",
       "      <td>0.304882</td>\n",
       "      <td>1.0</td>\n",
       "    </tr>\n",
       "  </tbody>\n",
       "</table>\n",
       "</div>"
      ],
      "text/plain": [
       "   Number of Processors          Time  Speed-Up  Theoretical Speed-Up  \\\n",
       "0                   1.0  2.515717e-07  1.000000                   1.0   \n",
       "1                   2.0  2.055715e-07  1.223767                   2.0   \n",
       "2                   3.0  4.901428e-07  0.513262                   3.0   \n",
       "3                   4.0  2.062859e-07  1.219529                   4.0   \n",
       "\n",
       "   Efficiency  Theoretical Efficiency  \n",
       "0    0.250000                     1.0  \n",
       "1    0.305942                     1.0  \n",
       "2    0.128316                     1.0  \n",
       "3    0.304882                     1.0  "
      ]
     },
     "execution_count": 18,
     "metadata": {},
     "output_type": "execute_result"
    }
   ],
   "source": [
    "timings_max"
   ]
  },
  {
   "cell_type": "code",
   "execution_count": 19,
   "metadata": {},
   "outputs": [
    {
     "data": {
      "text/plain": [
       "Text(0,0.5,'Speed-Up')"
      ]
     },
     "execution_count": 19,
     "metadata": {},
     "output_type": "execute_result"
    },
    {
     "data": {
      "image/png": "[encoded data removed]",
      "text/plain": [
       "<matplotlib.figure.Figure at 0x7f56ce71c2b0>"
      ]
     },
     "metadata": {},
     "output_type": "display_data"
    }
   ],
   "source": [
    "max_plot = timings_max.plot(x = \"Number of Processors\",y = [\"Speed-Up\",\"Theoretical Speed-Up\"],style=\"*-\",loglog=True)\n",
    "max_plot.set_title(\"Maximum Function\",fontsize = 18)\n",
    "max_plot.set_xlabel(\"Processors\")\n",
    "max_plot.set_ylabel(\"Speed-Up\")"
   ]
  },
  {
   "cell_type": "code",
   "execution_count": 20,
   "metadata": {},
   "outputs": [
    {
     "data": {
      "text/plain": [
       "Text(0,0.5,'Efficiency')"
      ]
     },
     "execution_count": 20,
     "metadata": {},
     "output_type": "execute_result"
    },
    {
     "data": {
      "image/png": "[encoded data removed]",
      "text/plain": [
       "<matplotlib.figure.Figure at 0x7f56ce6d2940>"
      ]
     },
     "metadata": {},
     "output_type": "display_data"
    }
   ],
   "source": [
    "max_plot = timings_max.plot(x = \"Number of Processors\",y = [\"Efficiency\",\"Theoretical Efficiency\"],style=\"*-\",logx=True)\n",
    "max_plot.set_title(\"Maximum Function\",fontsize = 18)\n",
    "max_plot.set_xlabel(\"Processors\")\n",
    "max_plot.set_ylabel(\"Efficiency\")"
   ]
  },
  {
   "cell_type": "code",
   "execution_count": 21,
   "metadata": {},
   "outputs": [
    {
     "data": {
      "text/html": [
       "<div>\n",
       "<style>\n",
       "    .dataframe thead tr:only-child th {\n",
       "        text-align: right;\n",
       "    }\n",
       "\n",
       "    .dataframe thead th {\n",
       "        text-align: left;\n",
       "    }\n",
       "\n",
       "    .dataframe tbody tr th {\n",
       "        vertical-align: top;\n",
       "    }\n",
       "</style>\n",
       "<table border=\"1\" class=\"dataframe\">\n",
       "  <thead>\n",
       "    <tr style=\"text-align: right;\">\n",
       "      <th></th>\n",
       "      <th>Number of Processors</th>\n",
       "      <th>Time</th>\n",
       "      <th>Speed-Up</th>\n",
       "      <th>Theoretical Speed-Up</th>\n",
       "      <th>Efficiency</th>\n",
       "      <th>Theoretical Efficiency</th>\n",
       "    </tr>\n",
       "  </thead>\n",
       "  <tbody>\n",
       "    <tr>\n",
       "      <th>0</th>\n",
       "      <td>1.0</td>\n",
       "      <td>2.114282e-07</td>\n",
       "      <td>1.000000</td>\n",
       "      <td>1.0</td>\n",
       "      <td>0.250000</td>\n",
       "      <td>1.0</td>\n",
       "    </tr>\n",
       "    <tr>\n",
       "      <th>1</th>\n",
       "      <td>2.0</td>\n",
       "      <td>1.937146e-07</td>\n",
       "      <td>1.091442</td>\n",
       "      <td>2.0</td>\n",
       "      <td>0.272860</td>\n",
       "      <td>1.0</td>\n",
       "    </tr>\n",
       "    <tr>\n",
       "      <th>2</th>\n",
       "      <td>3.0</td>\n",
       "      <td>1.751427e-07</td>\n",
       "      <td>1.207177</td>\n",
       "      <td>3.0</td>\n",
       "      <td>0.301794</td>\n",
       "      <td>1.0</td>\n",
       "    </tr>\n",
       "    <tr>\n",
       "      <th>3</th>\n",
       "      <td>4.0</td>\n",
       "      <td>1.901429e-07</td>\n",
       "      <td>1.111944</td>\n",
       "      <td>4.0</td>\n",
       "      <td>0.277986</td>\n",
       "      <td>1.0</td>\n",
       "    </tr>\n",
       "  </tbody>\n",
       "</table>\n",
       "</div>"
      ],
      "text/plain": [
       "   Number of Processors          Time  Speed-Up  Theoretical Speed-Up  \\\n",
       "0                   1.0  2.114282e-07  1.000000                   1.0   \n",
       "1                   2.0  1.937146e-07  1.091442                   2.0   \n",
       "2                   3.0  1.751427e-07  1.207177                   3.0   \n",
       "3                   4.0  1.901429e-07  1.111944                   4.0   \n",
       "\n",
       "   Efficiency  Theoretical Efficiency  \n",
       "0    0.250000                     1.0  \n",
       "1    0.272860                     1.0  \n",
       "2    0.301794                     1.0  \n",
       "3    0.277986                     1.0  "
      ]
     },
     "execution_count": 21,
     "metadata": {},
     "output_type": "execute_result"
    }
   ],
   "source": [
    "timings_std"
   ]
  },
  {
   "cell_type": "code",
   "execution_count": 22,
   "metadata": {},
   "outputs": [
    {
     "data": {
      "text/plain": [
       "Text(0,0.5,'Speed-Up')"
      ]
     },
     "execution_count": 22,
     "metadata": {},
     "output_type": "execute_result"
    },
    {
     "data": {
      "image/png": "[encoded data removed]",
      "text/plain": [
       "<matplotlib.figure.Figure at 0x7f56ce5db438>"
      ]
     },
     "metadata": {},
     "output_type": "display_data"
    }
   ],
   "source": [
    "std_plot = timings_std.plot(x = \"Number of Processors\",y = [\"Speed-Up\",\"Theoretical Speed-Up\"],style=\"*-\",loglog=True)\n",
    "std_plot.set_title(\"Standard Deviation Function\",fontsize = 18)\n",
    "std_plot.set_xlabel(\"Processors\")\n",
    "std_plot.set_ylabel(\"Speed-Up\")"
   ]
  },
  {
   "cell_type": "code",
   "execution_count": 23,
   "metadata": {},
   "outputs": [
    {
     "data": {
      "text/plain": [
       "Text(0,0.5,'Efficiency')"
      ]
     },
     "execution_count": 23,
     "metadata": {},
     "output_type": "execute_result"
    },
    {
     "data": {
      "image/png": "[encoded data removed]",
      "text/plain": [
       "<matplotlib.figure.Figure at 0x7f56ce4f3fd0>"
      ]
     },
     "metadata": {},
     "output_type": "display_data"
    }
   ],
   "source": [
    "std_plot = timings_std.plot(x = \"Number of Processors\",y = [\"Efficiency\",\"Theoretical Efficiency\"],style=\"*-\",logx=True)\n",
    "std_plot.set_title(\"Standard Deviation\",fontsize = 18)\n",
    "std_plot.set_xlabel(\"Processors\")\n",
    "std_plot.set_ylabel(\"Efficiency\")"
   ]
  },
  {
   "cell_type": "code",
   "execution_count": null,
   "metadata": {
    "collapsed": true
   },
   "outputs": [],
   "source": []
  }
 ],
 "metadata": {
  "kernelspec": {
   "display_name": "Python 3",
   "language": "python",
   "name": "python3"
  },
  "language_info": {
   "codemirror_mode": {
    "name": "ipython",
    "version": 3
   },
   "file_extension": ".py",
   "mimetype": "text/x-python",
   "name": "python",
   "nbconvert_exporter": "python",
   "pygments_lexer": "ipython3",
   "version": "3.6.3"
  }
 },
 "nbformat": 4,
 "nbformat_minor": 2
}
