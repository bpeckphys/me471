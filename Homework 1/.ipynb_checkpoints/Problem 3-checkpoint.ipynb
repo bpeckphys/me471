{
 "cells": [
  {
   "cell_type": "markdown",
   "metadata": {
    "collapsed": true
   },
   "source": [
    "# Homework 1 Problem 3"
   ]
  },
  {
   "cell_type": "code",
   "execution_count": null,
   "metadata": {
    "collapsed": true
   },
   "outputs": [],
   "source": [
    "import multiprocessing as mp\n",
    "import numpy as np\n",
    "import matplotlib.pyplot as mplt\n",
    "import pandas as pd\n",
    "from random import random"
   ]
  },
  {
   "cell_type": "code",
   "execution_count": null,
   "metadata": {
    "collapsed": true
   },
   "outputs": [],
   "source": [
    "N = 10**3\n",
    "A = [[random() for i in range(N)] for j in range(N)]\n",
    "x = [random() for i in range(N)]"
   ]
  },
  {
   "cell_type": "code",
   "execution_count": null,
   "metadata": {
    "collapsed": true
   },
   "outputs": [],
   "source": [
    "def dotprod(args):\n",
    "    a,x = args\n",
    "    return sum([ai*xi for ai,xi in zip(a,x)])\n",
    "\n",
    "def parmvec(A,x,nc):\n",
    "    # Set up a pool to handle the rows of the matrix.\n",
    "    pool = mp.Pool(processes = nc)\n",
    "    b = pool.map(dotprod,zip(A,[x]*len(A)))\n",
    "    pool.close()\n",
    "    pool.join()\n",
    "    return b"
   ]
  },
  {
   "cell_type": "code",
   "execution_count": null,
   "metadata": {},
   "outputs": [],
   "source": [
    "np.linalg.norm(parmvec(A,x,2) - np.dot(np.array(A),np.array(x)))"
   ]
  },
  {
   "cell_type": "code",
   "execution_count": null,
   "metadata": {
    "collapsed": true
   },
   "outputs": [],
   "source": [
    "times = %%timeit -n 1 -o -pass\n",
    "b = parmvec(A,x,4)"
   ]
  },
  {
   "cell_type": "markdown",
   "metadata": {},
   "source": [
    "Was not quite sure how to work this function. Still working on running it this way"
   ]
  },
  {
   "cell_type": "code",
   "execution_count": null,
   "metadata": {},
   "outputs": [],
   "source": [
    "def parvecadd(args):\n",
    "    a,x = args\n",
    "    return \n",
    "    \n",
    "def parvecmult(args):\n",
    "    a,x = args\n",
    "    return \n",
    "\n",
    "def parrowvec(A,x,nc):\n",
    "    # Set up a pool to handle the columns of the matrix\n",
    "    pool = mp.Pool(processes = nc)\n",
    "    # Construct columns\n",
    "    cols = []\n",
    "    scmult = pool.map(parvecmult,zip(x,[]))\n",
    "    \n",
    "    b = \n",
    "    \n",
    "    pool.close()\n",
    "    pool.join()\n",
    "    return b"
   ]
  },
  {
   "cell_type": "code",
   "execution_count": null,
   "metadata": {
    "collapsed": true
   },
   "outputs": [],
   "source": []
  }
 ],
 "metadata": {
  "kernelspec": {
   "display_name": "Python 3",
   "language": "python",
   "name": "python3"
  },
  "language_info": {
   "codemirror_mode": {
    "name": "ipython",
    "version": 3
   },
   "file_extension": ".py",
   "mimetype": "text/x-python",
   "name": "python",
   "nbconvert_exporter": "python",
   "pygments_lexer": "ipython3",
   "version": "3.6.3"
  }
 },
 "nbformat": 4,
 "nbformat_minor": 2
}
