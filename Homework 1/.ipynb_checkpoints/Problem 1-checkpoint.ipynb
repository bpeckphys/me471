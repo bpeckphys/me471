{
 "cells": [
  {
   "cell_type": "markdown",
   "metadata": {},
   "source": [
    "# Homework 1 Problem #1"
   ]
  },
  {
   "cell_type": "code",
   "execution_count": 1,
   "metadata": {
    "collapsed": true
   },
   "outputs": [],
   "source": [
    "import numpy as np\n",
    "import pandas as pd\n",
    "%matplotlib inline\n",
    "import matplotlib.pyplot as mplt\n",
    "from math import sin\n",
    "from array import array"
   ]
  },
  {
   "cell_type": "code",
   "execution_count": 2,
   "metadata": {
    "collapsed": true
   },
   "outputs": [],
   "source": [
    "N = 2**12"
   ]
  },
  {
   "cell_type": "markdown",
   "metadata": {},
   "source": [
    "# Python List Loops"
   ]
  },
  {
   "cell_type": "markdown",
   "metadata": {},
   "source": [
    "Table Setup"
   ]
  },
  {
   "cell_type": "code",
   "execution_count": 3,
   "metadata": {
    "collapsed": true
   },
   "outputs": [],
   "source": [
    "columns = [\"Addition\",\"Multiplication\",\"Sine\"]\n",
    "rows = [\"Python List Loop\",\"Python List Map\",\"Python Arrays Loop\",\"Python Arrays Map\",\n",
    "        \"NumPy Arrays Loop\",\"NumPy Arrays Vectorized\"]\n",
    "timings = pd.DataFrame(columns=columns,index=rows)"
   ]
  },
  {
   "cell_type": "markdown",
   "metadata": {},
   "source": [
    "Vector Addition Timing"
   ]
  },
  {
   "cell_type": "code",
   "execution_count": 4,
   "metadata": {},
   "outputs": [
    {
     "name": "stdout",
     "output_type": "stream",
     "text": [
      "197 ns ± 148 ns per loop (mean ± std. dev. of 7 runs, 1 loop each)\n"
     ]
    }
   ],
   "source": [
    "times = %%timeit -o -n 1 pass\n",
    "w = []\n",
    "for v in range(N):\n",
    "    w.append(v+v)"
   ]
  },
  {
   "cell_type": "code",
   "execution_count": 5,
   "metadata": {
    "collapsed": true
   },
   "outputs": [],
   "source": [
    "timings.loc[\"Python List Loop\"][\"Addition\"] = times.average"
   ]
  },
  {
   "cell_type": "markdown",
   "metadata": {},
   "source": [
    "Vector Multiplication Timing"
   ]
  },
  {
   "cell_type": "code",
   "execution_count": 6,
   "metadata": {},
   "outputs": [
    {
     "name": "stdout",
     "output_type": "stream",
     "text": [
      "253 ns ± 216 ns per loop (mean ± std. dev. of 7 runs, 1 loop each)\n"
     ]
    }
   ],
   "source": [
    "times = %%timeit -o -n 1 pass\n",
    "w = []\n",
    "for v in range(N):\n",
    "    w.append(v*v)"
   ]
  },
  {
   "cell_type": "code",
   "execution_count": 7,
   "metadata": {
    "collapsed": true
   },
   "outputs": [],
   "source": [
    "timings.loc[\"Python List Loop\"][\"Multiplication\"] = times.average"
   ]
  },
  {
   "cell_type": "markdown",
   "metadata": {},
   "source": [
    "Sine Function Timing"
   ]
  },
  {
   "cell_type": "code",
   "execution_count": 8,
   "metadata": {},
   "outputs": [
    {
     "name": "stdout",
     "output_type": "stream",
     "text": [
      "176 ns ± 113 ns per loop (mean ± std. dev. of 7 runs, 1 loop each)\n"
     ]
    }
   ],
   "source": [
    "times = %%timeit -o -n 1 pass\n",
    "w = []\n",
    "for v in range(N):\n",
    "    w.append(sin(v))"
   ]
  },
  {
   "cell_type": "code",
   "execution_count": 9,
   "metadata": {
    "collapsed": true
   },
   "outputs": [],
   "source": [
    "timings.loc[\"Python List Loop\"][\"Sine\"] = times.average"
   ]
  },
  {
   "cell_type": "markdown",
   "metadata": {},
   "source": [
    "# Python List Maps"
   ]
  },
  {
   "cell_type": "code",
   "execution_count": 10,
   "metadata": {
    "collapsed": true
   },
   "outputs": [],
   "source": [
    "def add(a,b):\n",
    "    return a + b\n",
    "def multiply(a,b):\n",
    "    return a*b"
   ]
  },
  {
   "cell_type": "code",
   "execution_count": 11,
   "metadata": {
    "collapsed": true
   },
   "outputs": [],
   "source": [
    "ls = list(range(N))"
   ]
  },
  {
   "cell_type": "markdown",
   "metadata": {},
   "source": [
    "Vector Addition Timing"
   ]
  },
  {
   "cell_type": "code",
   "execution_count": 12,
   "metadata": {},
   "outputs": [
    {
     "name": "stdout",
     "output_type": "stream",
     "text": [
      "204 ns ± 203 ns per loop (mean ± std. dev. of 7 runs, 1 loop each)\n"
     ]
    }
   ],
   "source": [
    "times = %%timeit -o -n 1 pass\n",
    "madd = list(map(add,ls,ls))"
   ]
  },
  {
   "cell_type": "code",
   "execution_count": 13,
   "metadata": {
    "collapsed": true
   },
   "outputs": [],
   "source": [
    "timings.loc[\"Python List Map\"][\"Addition\"] = times.average"
   ]
  },
  {
   "cell_type": "markdown",
   "metadata": {},
   "source": [
    "Vector Multiplication Timing"
   ]
  },
  {
   "cell_type": "code",
   "execution_count": 14,
   "metadata": {},
   "outputs": [
    {
     "name": "stdout",
     "output_type": "stream",
     "text": [
      "221 ns ± 199 ns per loop (mean ± std. dev. of 7 runs, 1 loop each)\n"
     ]
    }
   ],
   "source": [
    "times = %%timeit -o -n 1 pass\n",
    "mmult = list(map(multiply,ls,ls))"
   ]
  },
  {
   "cell_type": "code",
   "execution_count": 15,
   "metadata": {
    "collapsed": true
   },
   "outputs": [],
   "source": [
    "timings.loc[\"Python List Map\"][\"Multiplication\"] = times.average"
   ]
  },
  {
   "cell_type": "markdown",
   "metadata": {},
   "source": [
    "Sine Function Timing"
   ]
  },
  {
   "cell_type": "code",
   "execution_count": 16,
   "metadata": {},
   "outputs": [
    {
     "name": "stdout",
     "output_type": "stream",
     "text": [
      "197 ns ± 161 ns per loop (mean ± std. dev. of 7 runs, 1 loop each)\n"
     ]
    }
   ],
   "source": [
    "times = %%timeit -o -n 1 pass\n",
    "msin = list(map(sin,ls))"
   ]
  },
  {
   "cell_type": "code",
   "execution_count": 17,
   "metadata": {
    "collapsed": true
   },
   "outputs": [],
   "source": [
    "timings.loc[\"Python List Map\"][\"Sine\"] = times.average"
   ]
  },
  {
   "cell_type": "markdown",
   "metadata": {},
   "source": [
    "# Python Arrays Loops\n",
    "Addition Timing"
   ]
  },
  {
   "cell_type": "code",
   "execution_count": 18,
   "metadata": {
    "collapsed": true
   },
   "outputs": [],
   "source": [
    "ls = array(\"f\",range(N))"
   ]
  },
  {
   "cell_type": "code",
   "execution_count": 19,
   "metadata": {},
   "outputs": [
    {
     "name": "stdout",
     "output_type": "stream",
     "text": [
      "194 ns ± 161 ns per loop (mean ± std. dev. of 7 runs, 1 loop each)\n"
     ]
    }
   ],
   "source": [
    "times = %%timeit -o -n 1 pass\n",
    "w = array(\"f\",[])\n",
    "for v in ls:\n",
    "    w.append(v+v)"
   ]
  },
  {
   "cell_type": "code",
   "execution_count": 20,
   "metadata": {},
   "outputs": [],
   "source": [
    "timings.loc[\"Python Arrays Loop\"][\"Addition\"] = times.average"
   ]
  },
  {
   "cell_type": "markdown",
   "metadata": {},
   "source": [
    "Multiplication Timing"
   ]
  },
  {
   "cell_type": "code",
   "execution_count": 21,
   "metadata": {},
   "outputs": [
    {
     "name": "stdout",
     "output_type": "stream",
     "text": [
      "182 ns ± 120 ns per loop (mean ± std. dev. of 7 runs, 1 loop each)\n"
     ]
    }
   ],
   "source": [
    "times = %%timeit -o -n 1 pass\n",
    "w = array(\"f\",[])\n",
    "for v in ls:\n",
    "    w.append(v*v)"
   ]
  },
  {
   "cell_type": "code",
   "execution_count": 22,
   "metadata": {
    "collapsed": true
   },
   "outputs": [],
   "source": [
    "timings.loc[\"Python Arrays Loop\"][\"Multiplication\"] = times.average"
   ]
  },
  {
   "cell_type": "markdown",
   "metadata": {},
   "source": [
    "Sine Function Timing"
   ]
  },
  {
   "cell_type": "code",
   "execution_count": 23,
   "metadata": {},
   "outputs": [
    {
     "name": "stdout",
     "output_type": "stream",
     "text": [
      "199 ns ± 155 ns per loop (mean ± std. dev. of 7 runs, 1 loop each)\n"
     ]
    }
   ],
   "source": [
    "times = %%timeit -o -n 1 pass\n",
    "w = array(\"f\",[])\n",
    "for v in ls:\n",
    "    w.append(sin(v))"
   ]
  },
  {
   "cell_type": "code",
   "execution_count": 24,
   "metadata": {
    "collapsed": true
   },
   "outputs": [],
   "source": [
    "timings.loc[\"Python Arrays Loop\"][\"Sine\"] = times.average"
   ]
  },
  {
   "cell_type": "markdown",
   "metadata": {},
   "source": [
    "# Python Array Maps\n",
    "Addition Timing"
   ]
  },
  {
   "cell_type": "code",
   "execution_count": 25,
   "metadata": {
    "collapsed": true
   },
   "outputs": [],
   "source": [
    "def add(a,b):\n",
    "    return a + b\n",
    "def multiply(a,b):\n",
    "    return a*b"
   ]
  },
  {
   "cell_type": "code",
   "execution_count": 26,
   "metadata": {},
   "outputs": [
    {
     "name": "stdout",
     "output_type": "stream",
     "text": [
      "197 ns ± 150 ns per loop (mean ± std. dev. of 7 runs, 1 loop each)\n"
     ]
    }
   ],
   "source": [
    "times = %%timeit -o -n 1 pass\n",
    "maradd = map(add,ls,ls)"
   ]
  },
  {
   "cell_type": "code",
   "execution_count": 27,
   "metadata": {
    "collapsed": true
   },
   "outputs": [],
   "source": [
    "timings.loc[\"Python Arrays Map\"][\"Addition\"] = times.average"
   ]
  },
  {
   "cell_type": "markdown",
   "metadata": {},
   "source": [
    "Multiplication Timing"
   ]
  },
  {
   "cell_type": "code",
   "execution_count": 28,
   "metadata": {},
   "outputs": [
    {
     "name": "stdout",
     "output_type": "stream",
     "text": [
      "193 ns ± 145 ns per loop (mean ± std. dev. of 7 runs, 1 loop each)\n"
     ]
    }
   ],
   "source": [
    "times = %%timeit -o -n 1 pass\n",
    "marmult = map(multiply,ls,ls)"
   ]
  },
  {
   "cell_type": "code",
   "execution_count": 29,
   "metadata": {
    "collapsed": true
   },
   "outputs": [],
   "source": [
    "timings.loc[\"Python Arrays Map\"][\"Multiplication\"] = times.average"
   ]
  },
  {
   "cell_type": "markdown",
   "metadata": {},
   "source": [
    "Sine Function Timing"
   ]
  },
  {
   "cell_type": "code",
   "execution_count": 30,
   "metadata": {},
   "outputs": [
    {
     "name": "stdout",
     "output_type": "stream",
     "text": [
      "The slowest run took 14.64 times longer than the fastest. This could mean that an intermediate result is being cached.\n",
      "362 ns ± 558 ns per loop (mean ± std. dev. of 7 runs, 1 loop each)\n"
     ]
    }
   ],
   "source": [
    "times = %%timeit -o -n 1 pass\n",
    "marsin = map(sin,ls,ls)"
   ]
  },
  {
   "cell_type": "code",
   "execution_count": 31,
   "metadata": {
    "collapsed": true
   },
   "outputs": [],
   "source": [
    "timings.loc[\"Python Arrays Map\"][\"Sine\"] = times.average"
   ]
  },
  {
   "cell_type": "markdown",
   "metadata": {},
   "source": [
    "# NumPy Array Loops"
   ]
  },
  {
   "cell_type": "markdown",
   "metadata": {},
   "source": [
    "Addition Timing"
   ]
  },
  {
   "cell_type": "code",
   "execution_count": 32,
   "metadata": {},
   "outputs": [
    {
     "name": "stdout",
     "output_type": "stream",
     "text": [
      "The slowest run took 21.05 times longer than the fastest. This could mean that an intermediate result is being cached.\n",
      "472 ns ± 822 ns per loop (mean ± std. dev. of 7 runs, 1 loop each)\n"
     ]
    }
   ],
   "source": [
    "w = np.arange(N)\n",
    "times = %%timeit -o -n 1 pass\n",
    "for i in range(N):\n",
    "    w[i] = i + i"
   ]
  },
  {
   "cell_type": "code",
   "execution_count": 33,
   "metadata": {
    "collapsed": true
   },
   "outputs": [],
   "source": [
    "timings.loc[\"NumPy Arrays Loop\"][\"Addition\"] = times.average"
   ]
  },
  {
   "cell_type": "markdown",
   "metadata": {},
   "source": [
    "Multiplication Timing"
   ]
  },
  {
   "cell_type": "code",
   "execution_count": 34,
   "metadata": {},
   "outputs": [
    {
     "name": "stdout",
     "output_type": "stream",
     "text": [
      "191 ns ± 148 ns per loop (mean ± std. dev. of 7 runs, 1 loop each)\n"
     ]
    }
   ],
   "source": [
    "w = np.arange(N)\n",
    "times = %%timeit -o -n 1 pass\n",
    "for i in range(N):\n",
    "    w[i] = i*i"
   ]
  },
  {
   "cell_type": "code",
   "execution_count": 35,
   "metadata": {
    "collapsed": true
   },
   "outputs": [],
   "source": [
    "timings.loc[\"NumPy Arrays Loop\"][\"Multiplication\"] = times.average"
   ]
  },
  {
   "cell_type": "markdown",
   "metadata": {},
   "source": [
    "Sine Function Timing"
   ]
  },
  {
   "cell_type": "code",
   "execution_count": 36,
   "metadata": {},
   "outputs": [
    {
     "name": "stdout",
     "output_type": "stream",
     "text": [
      "201 ns ± 173 ns per loop (mean ± std. dev. of 7 runs, 1 loop each)\n"
     ]
    }
   ],
   "source": [
    "w = np.arange(N)\n",
    "times = %%timeit -o -n 1 pass\n",
    "for i in range(N):\n",
    "    w[i] = sin(i)"
   ]
  },
  {
   "cell_type": "code",
   "execution_count": 37,
   "metadata": {
    "collapsed": true
   },
   "outputs": [],
   "source": [
    "timings.loc[\"NumPy Arrays Loop\"][\"Sine\"] = times.average"
   ]
  },
  {
   "cell_type": "markdown",
   "metadata": {},
   "source": [
    "# NumPy Vectorization"
   ]
  },
  {
   "cell_type": "markdown",
   "metadata": {},
   "source": [
    "Addition Timing"
   ]
  },
  {
   "cell_type": "code",
   "execution_count": 38,
   "metadata": {},
   "outputs": [
    {
     "name": "stdout",
     "output_type": "stream",
     "text": [
      "208 ns ± 182 ns per loop (mean ± std. dev. of 7 runs, 1 loop each)\n"
     ]
    }
   ],
   "source": [
    "w = np.arange(N)\n",
    "times = %%timeit -o -n 1 pass\n",
    "w = w + w"
   ]
  },
  {
   "cell_type": "code",
   "execution_count": 39,
   "metadata": {
    "collapsed": true
   },
   "outputs": [],
   "source": [
    "timings.loc[\"NumPy Arrays Vectorized\"][\"Addition\"] = times.average"
   ]
  },
  {
   "cell_type": "markdown",
   "metadata": {},
   "source": [
    "Multiplication Timing"
   ]
  },
  {
   "cell_type": "code",
   "execution_count": 40,
   "metadata": {},
   "outputs": [
    {
     "name": "stdout",
     "output_type": "stream",
     "text": [
      "196 ns ± 147 ns per loop (mean ± std. dev. of 7 runs, 1 loop each)\n"
     ]
    }
   ],
   "source": [
    "w = np.arange(N)\n",
    "times = %%timeit -o -n 1 pass\n",
    "w = w*w"
   ]
  },
  {
   "cell_type": "code",
   "execution_count": 41,
   "metadata": {
    "collapsed": true
   },
   "outputs": [],
   "source": [
    "timings.loc[\"NumPy Arrays Vectorized\"][\"Multiplication\"] = times.average"
   ]
  },
  {
   "cell_type": "markdown",
   "metadata": {},
   "source": [
    "Sine Function Timing"
   ]
  },
  {
   "cell_type": "code",
   "execution_count": 42,
   "metadata": {},
   "outputs": [
    {
     "name": "stdout",
     "output_type": "stream",
     "text": [
      "191 ns ± 149 ns per loop (mean ± std. dev. of 7 runs, 1 loop each)\n"
     ]
    }
   ],
   "source": [
    "w = np.arange(N)\n",
    "times = %%timeit -o -n 1 pass\n",
    "w = np.sin(w)"
   ]
  },
  {
   "cell_type": "code",
   "execution_count": 43,
   "metadata": {
    "collapsed": true
   },
   "outputs": [],
   "source": [
    "timings.loc[\"NumPy Arrays Vectorized\"][\"Sine\"] = times.average"
   ]
  },
  {
   "cell_type": "markdown",
   "metadata": {},
   "source": [
    "Create a definition to set cell coloring\n",
    "\n",
    "I couldn't get a function written to change the colors. Sage helped me and I then edited his code to colors of my choosing."
   ]
  },
  {
   "cell_type": "code",
   "execution_count": 44,
   "metadata": {
    "collapsed": true
   },
   "outputs": [],
   "source": [
    "def highlight(s):\n",
    "    red = 'background-color: red'\n",
    "    green = 'background-color: green'\n",
    "    return [red if val==s.max() else green if val==s.min() else '' for val in s]"
   ]
  },
  {
   "cell_type": "code",
   "execution_count": 45,
   "metadata": {},
   "outputs": [
    {
     "data": {
      "text/html": [
       "<style  type=\"text/css\" >\n",
       "    #T_46a59a92_03b3_11e8_87cb_000c29f4ace4row0_col1 {\n",
       "            background-color:  red;\n",
       "        }    #T_46a59a92_03b3_11e8_87cb_000c29f4ace4row0_col2 {\n",
       "            background-color:  green;\n",
       "        }    #T_46a59a92_03b3_11e8_87cb_000c29f4ace4row2_col0 {\n",
       "            background-color:  green;\n",
       "        }    #T_46a59a92_03b3_11e8_87cb_000c29f4ace4row2_col1 {\n",
       "            background-color:  green;\n",
       "        }    #T_46a59a92_03b3_11e8_87cb_000c29f4ace4row3_col2 {\n",
       "            background-color:  red;\n",
       "        }    #T_46a59a92_03b3_11e8_87cb_000c29f4ace4row4_col0 {\n",
       "            background-color:  red;\n",
       "        }</style>  \n",
       "<table id=\"T_46a59a92_03b3_11e8_87cb_000c29f4ace4\" > \n",
       "<thead>    <tr> \n",
       "        <th class=\"blank level0\" ></th> \n",
       "        <th class=\"col_heading level0 col0\" >Addition</th> \n",
       "        <th class=\"col_heading level0 col1\" >Multiplication</th> \n",
       "        <th class=\"col_heading level0 col2\" >Sine</th> \n",
       "    </tr></thead> \n",
       "<tbody>    <tr> \n",
       "        <th id=\"T_46a59a92_03b3_11e8_87cb_000c29f4ace4level0_row0\" class=\"row_heading level0 row0\" >Python List Loop</th> \n",
       "        <td id=\"T_46a59a92_03b3_11e8_87cb_000c29f4ace4row0_col0\" class=\"data row0 col0\" >1.97286e-07</td> \n",
       "        <td id=\"T_46a59a92_03b3_11e8_87cb_000c29f4ace4row0_col1\" class=\"data row0 col1\" >2.5257e-07</td> \n",
       "        <td id=\"T_46a59a92_03b3_11e8_87cb_000c29f4ace4row0_col2\" class=\"data row0 col2\" >1.75857e-07</td> \n",
       "    </tr>    <tr> \n",
       "        <th id=\"T_46a59a92_03b3_11e8_87cb_000c29f4ace4level0_row1\" class=\"row_heading level0 row1\" >Python List Map</th> \n",
       "        <td id=\"T_46a59a92_03b3_11e8_87cb_000c29f4ace4row1_col0\" class=\"data row1 col0\" >2.04144e-07</td> \n",
       "        <td id=\"T_46a59a92_03b3_11e8_87cb_000c29f4ace4row1_col1\" class=\"data row1 col1\" >2.21143e-07</td> \n",
       "        <td id=\"T_46a59a92_03b3_11e8_87cb_000c29f4ace4row1_col2\" class=\"data row1 col2\" >1.97e-07</td> \n",
       "    </tr>    <tr> \n",
       "        <th id=\"T_46a59a92_03b3_11e8_87cb_000c29f4ace4level0_row2\" class=\"row_heading level0 row2\" >Python Arrays Loop</th> \n",
       "        <td id=\"T_46a59a92_03b3_11e8_87cb_000c29f4ace4row2_col0\" class=\"data row2 col0\" >1.93714e-07</td> \n",
       "        <td id=\"T_46a59a92_03b3_11e8_87cb_000c29f4ace4row2_col1\" class=\"data row2 col1\" >1.82286e-07</td> \n",
       "        <td id=\"T_46a59a92_03b3_11e8_87cb_000c29f4ace4row2_col2\" class=\"data row2 col2\" >1.99285e-07</td> \n",
       "    </tr>    <tr> \n",
       "        <th id=\"T_46a59a92_03b3_11e8_87cb_000c29f4ace4level0_row3\" class=\"row_heading level0 row3\" >Python Arrays Map</th> \n",
       "        <td id=\"T_46a59a92_03b3_11e8_87cb_000c29f4ace4row3_col0\" class=\"data row3 col0\" >1.96999e-07</td> \n",
       "        <td id=\"T_46a59a92_03b3_11e8_87cb_000c29f4ace4row3_col1\" class=\"data row3 col1\" >1.93428e-07</td> \n",
       "        <td id=\"T_46a59a92_03b3_11e8_87cb_000c29f4ace4row3_col2\" class=\"data row3 col2\" >3.61572e-07</td> \n",
       "    </tr>    <tr> \n",
       "        <th id=\"T_46a59a92_03b3_11e8_87cb_000c29f4ace4level0_row4\" class=\"row_heading level0 row4\" >NumPy Arrays Loop</th> \n",
       "        <td id=\"T_46a59a92_03b3_11e8_87cb_000c29f4ace4row4_col0\" class=\"data row4 col0\" >4.71858e-07</td> \n",
       "        <td id=\"T_46a59a92_03b3_11e8_87cb_000c29f4ace4row4_col1\" class=\"data row4 col1\" >1.90857e-07</td> \n",
       "        <td id=\"T_46a59a92_03b3_11e8_87cb_000c29f4ace4row4_col2\" class=\"data row4 col2\" >2.01285e-07</td> \n",
       "    </tr>    <tr> \n",
       "        <th id=\"T_46a59a92_03b3_11e8_87cb_000c29f4ace4level0_row5\" class=\"row_heading level0 row5\" >NumPy Arrays Vectorized</th> \n",
       "        <td id=\"T_46a59a92_03b3_11e8_87cb_000c29f4ace4row5_col0\" class=\"data row5 col0\" >2.08428e-07</td> \n",
       "        <td id=\"T_46a59a92_03b3_11e8_87cb_000c29f4ace4row5_col1\" class=\"data row5 col1\" >1.95572e-07</td> \n",
       "        <td id=\"T_46a59a92_03b3_11e8_87cb_000c29f4ace4row5_col2\" class=\"data row5 col2\" >1.90714e-07</td> \n",
       "    </tr></tbody> \n",
       "</table> "
      ],
      "text/plain": [
       "<pandas.io.formats.style.Styler at 0x7f7495b97438>"
      ]
     },
     "execution_count": 45,
     "metadata": {},
     "output_type": "execute_result"
    }
   ],
   "source": [
    "timings.style.apply(highlight)"
   ]
  },
  {
   "cell_type": "code",
   "execution_count": 46,
   "metadata": {},
   "outputs": [
    {
     "data": {
      "text/plain": [
       "<matplotlib.axes._subplots.AxesSubplot at 0x7f7495b846a0>"
      ]
     },
     "execution_count": 46,
     "metadata": {},
     "output_type": "execute_result"
    },
    {
     "data": {
      "image/png": "[encoded data removed]",
      "text/plain": [
       "<matplotlib.figure.Figure at 0x7f74b8cc59e8>"
      ]
     },
     "metadata": {},
     "output_type": "display_data"
    }
   ],
   "source": [
    "timings.plot.bar()"
   ]
  },
  {
   "cell_type": "code",
   "execution_count": null,
   "metadata": {
    "collapsed": true
   },
   "outputs": [],
   "source": []
  }
 ],
 "metadata": {
  "kernelspec": {
   "display_name": "Python 3",
   "language": "python",
   "name": "python3"
  },
  "language_info": {
   "codemirror_mode": {
    "name": "ipython",
    "version": 3
   },
   "file_extension": ".py",
   "mimetype": "text/x-python",
   "name": "python",
   "nbconvert_exporter": "python",
   "pygments_lexer": "ipython3",
   "version": "3.6.3"
  }
 },
 "nbformat": 4,
 "nbformat_minor": 2
}
